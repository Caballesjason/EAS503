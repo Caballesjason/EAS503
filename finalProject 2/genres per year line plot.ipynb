{
 "cells": [
  {
   "cell_type": "code",
   "execution_count": 1,
   "id": "e634a7ba-80d4-48be-bd2f-09c0ab20671d",
   "metadata": {},
   "outputs": [
    {
     "ename": "DatabaseError",
     "evalue": "Execution failed on sql '\nSELECT\n\tFilms_And_Genres.FILMID, Films_And_Genres.GENRE, Films.YEAR_ADDED, COUNT(GENRE) AS FREQUENCY\n\nFROM Films\nINNER JOIN Films_And_Genres ON Films.FILM_ID = Films_And_Genres.FILM_ID\n\nWHERE Films_And_Genres.GENRE in ('Dramas', 'Thrillers', 'Romantic')\nGROUP BY Films.YEAR_ADDED\n\n': no such column: Films_And_Genres.FILMID",
     "output_type": "error",
     "traceback": [
      "\u001b[0;31m---------------------------------------------------------------------------\u001b[0m",
      "\u001b[0;31mOperationalError\u001b[0m                          Traceback (most recent call last)",
      "File \u001b[0;32m~/opt/anaconda3/lib/python3.9/site-packages/pandas/io/sql.py:2020\u001b[0m, in \u001b[0;36mSQLiteDatabase.execute\u001b[0;34m(self, *args, **kwargs)\u001b[0m\n\u001b[1;32m   2019\u001b[0m \u001b[39mtry\u001b[39;00m:\n\u001b[0;32m-> 2020\u001b[0m     cur\u001b[39m.\u001b[39;49mexecute(\u001b[39m*\u001b[39;49margs, \u001b[39m*\u001b[39;49m\u001b[39m*\u001b[39;49mkwargs)\n\u001b[1;32m   2021\u001b[0m     \u001b[39mreturn\u001b[39;00m cur\n",
      "\u001b[0;31mOperationalError\u001b[0m: no such column: Films_And_Genres.FILMID",
      "\nThe above exception was the direct cause of the following exception:\n",
      "\u001b[0;31mDatabaseError\u001b[0m                             Traceback (most recent call last)",
      "\u001b[1;32m/Users/jason/Desktop/MSDS/EAS_503/finalProject 2/genres per year line plot.ipynb Cell 1\u001b[0m in \u001b[0;36m<cell line: 21>\u001b[0;34m()\u001b[0m\n\u001b[1;32m      <a href='vscode-notebook-cell:/Users/jason/Desktop/MSDS/EAS_503/finalProject%202/genres%20per%20year%20line%20plot.ipynb#W0sZmlsZQ%3D%3D?line=6'>7</a>\u001b[0m conn \u001b[39m=\u001b[39m create_connection(database)\n\u001b[1;32m      <a href='vscode-notebook-cell:/Users/jason/Desktop/MSDS/EAS_503/finalProject%202/genres%20per%20year%20line%20plot.ipynb#W0sZmlsZQ%3D%3D?line=8'>9</a>\u001b[0m sql \u001b[39m=\u001b[39m \u001b[39m\"\"\"\u001b[39m\n\u001b[1;32m     <a href='vscode-notebook-cell:/Users/jason/Desktop/MSDS/EAS_503/finalProject%202/genres%20per%20year%20line%20plot.ipynb#W0sZmlsZQ%3D%3D?line=9'>10</a>\u001b[0m \u001b[39mSELECT\u001b[39m\n\u001b[1;32m     <a href='vscode-notebook-cell:/Users/jason/Desktop/MSDS/EAS_503/finalProject%202/genres%20per%20year%20line%20plot.ipynb#W0sZmlsZQ%3D%3D?line=10'>11</a>\u001b[0m \u001b[39m\tFilms_And_Genres.FILMID, Films_And_Genres.GENRE, Films.YEAR_ADDED, COUNT(GENRE) AS FREQUENCY\u001b[39m\n\u001b[0;32m   (...)\u001b[0m\n\u001b[1;32m     <a href='vscode-notebook-cell:/Users/jason/Desktop/MSDS/EAS_503/finalProject%202/genres%20per%20year%20line%20plot.ipynb#W0sZmlsZQ%3D%3D?line=17'>18</a>\u001b[0m \n\u001b[1;32m     <a href='vscode-notebook-cell:/Users/jason/Desktop/MSDS/EAS_503/finalProject%202/genres%20per%20year%20line%20plot.ipynb#W0sZmlsZQ%3D%3D?line=18'>19</a>\u001b[0m \u001b[39m\"\"\"\u001b[39m\n\u001b[0;32m---> <a href='vscode-notebook-cell:/Users/jason/Desktop/MSDS/EAS_503/finalProject%202/genres%20per%20year%20line%20plot.ipynb#W0sZmlsZQ%3D%3D?line=20'>21</a>\u001b[0m df \u001b[39m=\u001b[39m pd\u001b[39m.\u001b[39;49mread_sql(sql, conn)\n\u001b[1;32m     <a href='vscode-notebook-cell:/Users/jason/Desktop/MSDS/EAS_503/finalProject%202/genres%20per%20year%20line%20plot.ipynb#W0sZmlsZQ%3D%3D?line=21'>22</a>\u001b[0m labels \u001b[39m=\u001b[39m {\u001b[39m\"\u001b[39m\u001b[39mYEAR_ADDED\u001b[39m\u001b[39m\"\u001b[39m: \u001b[39m'\u001b[39m\u001b[39mYear Added\u001b[39m\u001b[39m'\u001b[39m, \u001b[39m\"\u001b[39m\u001b[39mFREQUENCY\u001b[39m\u001b[39m\"\u001b[39m: \u001b[39m\"\u001b[39m\u001b[39mNumber of Films Added\u001b[39m\u001b[39m\"\u001b[39m}\n\u001b[1;32m     <a href='vscode-notebook-cell:/Users/jason/Desktop/MSDS/EAS_503/finalProject%202/genres%20per%20year%20line%20plot.ipynb#W0sZmlsZQ%3D%3D?line=22'>23</a>\u001b[0m title \u001b[39m=\u001b[39m \u001b[39m\"\u001b[39m\u001b[39mNumber of Films Added Per Year By Genre\u001b[39m\u001b[39m\"\u001b[39m\n",
      "File \u001b[0;32m~/opt/anaconda3/lib/python3.9/site-packages/pandas/io/sql.py:566\u001b[0m, in \u001b[0;36mread_sql\u001b[0;34m(sql, con, index_col, coerce_float, params, parse_dates, columns, chunksize)\u001b[0m\n\u001b[1;32m    563\u001b[0m pandas_sql \u001b[39m=\u001b[39m pandasSQL_builder(con)\n\u001b[1;32m    565\u001b[0m \u001b[39mif\u001b[39;00m \u001b[39misinstance\u001b[39m(pandas_sql, SQLiteDatabase):\n\u001b[0;32m--> 566\u001b[0m     \u001b[39mreturn\u001b[39;00m pandas_sql\u001b[39m.\u001b[39;49mread_query(\n\u001b[1;32m    567\u001b[0m         sql,\n\u001b[1;32m    568\u001b[0m         index_col\u001b[39m=\u001b[39;49mindex_col,\n\u001b[1;32m    569\u001b[0m         params\u001b[39m=\u001b[39;49mparams,\n\u001b[1;32m    570\u001b[0m         coerce_float\u001b[39m=\u001b[39;49mcoerce_float,\n\u001b[1;32m    571\u001b[0m         parse_dates\u001b[39m=\u001b[39;49mparse_dates,\n\u001b[1;32m    572\u001b[0m         chunksize\u001b[39m=\u001b[39;49mchunksize,\n\u001b[1;32m    573\u001b[0m     )\n\u001b[1;32m    575\u001b[0m \u001b[39mtry\u001b[39;00m:\n\u001b[1;32m    576\u001b[0m     _is_table_name \u001b[39m=\u001b[39m pandas_sql\u001b[39m.\u001b[39mhas_table(sql)\n",
      "File \u001b[0;32m~/opt/anaconda3/lib/python3.9/site-packages/pandas/io/sql.py:2080\u001b[0m, in \u001b[0;36mSQLiteDatabase.read_query\u001b[0;34m(self, sql, index_col, coerce_float, params, parse_dates, chunksize, dtype)\u001b[0m\n\u001b[1;32m   2068\u001b[0m \u001b[39mdef\u001b[39;00m \u001b[39mread_query\u001b[39m(\n\u001b[1;32m   2069\u001b[0m     \u001b[39mself\u001b[39m,\n\u001b[1;32m   2070\u001b[0m     sql,\n\u001b[0;32m   (...)\u001b[0m\n\u001b[1;32m   2076\u001b[0m     dtype: DtypeArg \u001b[39m|\u001b[39m \u001b[39mNone\u001b[39;00m \u001b[39m=\u001b[39m \u001b[39mNone\u001b[39;00m,\n\u001b[1;32m   2077\u001b[0m ):\n\u001b[1;32m   2079\u001b[0m     args \u001b[39m=\u001b[39m _convert_params(sql, params)\n\u001b[0;32m-> 2080\u001b[0m     cursor \u001b[39m=\u001b[39m \u001b[39mself\u001b[39;49m\u001b[39m.\u001b[39;49mexecute(\u001b[39m*\u001b[39;49margs)\n\u001b[1;32m   2081\u001b[0m     columns \u001b[39m=\u001b[39m [col_desc[\u001b[39m0\u001b[39m] \u001b[39mfor\u001b[39;00m col_desc \u001b[39min\u001b[39;00m cursor\u001b[39m.\u001b[39mdescription]\n\u001b[1;32m   2083\u001b[0m     \u001b[39mif\u001b[39;00m chunksize \u001b[39mis\u001b[39;00m \u001b[39mnot\u001b[39;00m \u001b[39mNone\u001b[39;00m:\n",
      "File \u001b[0;32m~/opt/anaconda3/lib/python3.9/site-packages/pandas/io/sql.py:2032\u001b[0m, in \u001b[0;36mSQLiteDatabase.execute\u001b[0;34m(self, *args, **kwargs)\u001b[0m\n\u001b[1;32m   2029\u001b[0m     \u001b[39mraise\u001b[39;00m ex \u001b[39mfrom\u001b[39;00m \u001b[39minner_exc\u001b[39;00m\n\u001b[1;32m   2031\u001b[0m ex \u001b[39m=\u001b[39m DatabaseError(\u001b[39mf\u001b[39m\u001b[39m\"\u001b[39m\u001b[39mExecution failed on sql \u001b[39m\u001b[39m'\u001b[39m\u001b[39m{\u001b[39;00margs[\u001b[39m0\u001b[39m]\u001b[39m}\u001b[39;00m\u001b[39m'\u001b[39m\u001b[39m: \u001b[39m\u001b[39m{\u001b[39;00mexc\u001b[39m}\u001b[39;00m\u001b[39m\"\u001b[39m)\n\u001b[0;32m-> 2032\u001b[0m \u001b[39mraise\u001b[39;00m ex \u001b[39mfrom\u001b[39;00m \u001b[39mexc\u001b[39;00m\n",
      "\u001b[0;31mDatabaseError\u001b[0m: Execution failed on sql '\nSELECT\n\tFilms_And_Genres.FILMID, Films_And_Genres.GENRE, Films.YEAR_ADDED, COUNT(GENRE) AS FREQUENCY\n\nFROM Films\nINNER JOIN Films_And_Genres ON Films.FILM_ID = Films_And_Genres.FILM_ID\n\nWHERE Films_And_Genres.GENRE in ('Dramas', 'Thrillers', 'Romantic')\nGROUP BY Films.YEAR_ADDED\n\n': no such column: Films_And_Genres.FILMID"
     ]
    }
   ],
   "source": [
    "# library import\n",
    "from utility_functions import *\n",
    "import plotly.express as px\n",
    "import pandas as pd\n",
    "\n",
    "database = 'netflix.db'\n",
    "conn = create_connection(database)\n",
    "\n",
    "sql = \"\"\"\n",
    "SELECT\n",
    "\tFilms_And_Genres.FILMID, Films_And_Genres.GENRE, Films.YEAR_ADDED, COUNT(GENRE) AS FREQUENCY\n",
    "\n",
    "FROM Films\n",
    "INNER JOIN Films_And_Genres ON Films.FILM_ID = Films_And_Genres.FILM_ID\n",
    "\n",
    "WHERE Films_And_Genres.GENRE in ('Dramas', 'Thrillers', 'Romantic')\n",
    "GROUP BY Films.YEAR_ADDED\n",
    "\n",
    "\"\"\"\n",
    "\n",
    "df = pd.read_sql(sql, conn)\n",
    "labels = {\"YEAR_ADDED\": 'Year Added', \"FREQUENCY\": \"Number of Films Added\"}\n",
    "title = \"Number of Films Added Per Year By Genre\"\n",
    "fig = px.line(df, x=\"YEAR_ADDED\", y=\"FREQUENCY\", color='GENRE', labels = labels, title = title)\n",
    "fig.show()"
   ]
  }
 ],
 "metadata": {
  "kernelspec": {
   "display_name": "base",
   "language": "python",
   "name": "python3"
  },
  "language_info": {
   "codemirror_mode": {
    "name": "ipython",
    "version": 3
   },
   "file_extension": ".py",
   "mimetype": "text/x-python",
   "name": "python",
   "nbconvert_exporter": "python",
   "pygments_lexer": "ipython3",
   "version": "3.9.12"
  },
  "vscode": {
   "interpreter": {
    "hash": "5de96e7bd8395409e1c7b7832f2239ec7bd9680ead0db1c40194c8a312bf7c20"
   }
  }
 },
 "nbformat": 4,
 "nbformat_minor": 5
}
